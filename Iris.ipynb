{
  "cells": [
    {
      "cell_type": "markdown",
      "metadata": {
        "id": "Uqy2q_pEvStv"
      },
      "source": [
        "# 수행활동\n",
        "붓꽃 데이터 세트를 이용하여 plot 그리기"
      ]
    },
    {
      "cell_type": "markdown",
      "metadata": {
        "id": "xQyqH5egvgcY"
      },
      "source": [
        "### 활동 주제\n",
        "가장 기본적인 데이터 세트인 붓꽃 데이터 세트를 plot으로 그려 보자."
      ]
    },
    {
      "cell_type": "markdown",
      "metadata": {
        "id": "NFwKb_0Svr74"
      },
      "source": [
        "### 요구사항\n",
        "- 데이터 세트는 https://www.kaggle.com/datasets/uciml/iris 로 접속한다.\n",
        "- 가장 적절한 plot을 찾는다."
      ]
    },
    {
      "cell_type": "markdown",
      "metadata": {
        "id": "kezHR5dOv-6p"
      },
      "source": [
        "### 활동하기\n",
        "1. 사이트에 접속하고, 로그인한 뒤 download를 클릭해 보자.\n",
        "![](./images/kaggle.jpg)\n",
        "2. 다운로드한 데이터를 업로드해 준다.\n",
        "![](./images/data.jpg)\n",
        "3. 코드를 작성해 보자.\n",
        "```\n",
        "# pass\n",
        "```\n",
        "\n",
        "4. 결과를 확인해 보자.\n"
      ]
    },
    {
      "cell_type": "code",
      "execution_count": null,
      "metadata": {
        "id": "w7EayzA7x9QM"
      },
      "outputs": [],
      "source": [
        "# 데이터에 대한 plot을 그리는 코드를 작성해 보세요.\n"
      ]
    },
    {
      "cell_type": "markdown",
      "metadata": {
        "id": "nmrFYluXz1Rz"
      },
      "source": [
        "### 스스로 평가하기  \n",
        "다음 평가 항목을 스스로 평가해 보자.  \n",
        "\n",
        "- [ ] 다운로드한 데이터를 업로드할 수 있다.  \n",
        "- [ ] 데이터에 대한 plot을 그릴 수 있다.  "
      ]
    }
  ],
  "metadata": {
    "colab": {
      "provenance": []
    },
    "kernelspec": {
      "display_name": "Python 3",
      "name": "python3"
    },
    "language_info": {
      "name": "python"
    }
  },
  "nbformat": 4,
  "nbformat_minor": 0
}
