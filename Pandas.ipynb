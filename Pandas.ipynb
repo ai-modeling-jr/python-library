{
  "cells": [
    {
      "cell_type": "markdown",
      "metadata": {
        "id": "8rMetJFY9kXP"
      },
      "source": [
        "## Pandas 기초\n",
        "Pandas 모듈\n",
        "- Series Class : 1차원\n",
        "  - 인덱스(index) + 값(value)\n",
        "- DataFrame Class : 2차원\n",
        "  - 표와 같은 형태\n"
      ]
    },
    {
      "cell_type": "code",
      "execution_count": null,
      "metadata": {
        "id": "BCaVXlgv-FKu"
      },
      "outputs": [],
      "source": [
        "import pandas as pd"
      ]
    },
    {
      "cell_type": "markdown",
      "metadata": {
        "id": "xSR61U2jAC6V"
      },
      "source": [
        "#### Pandas 연습 01\n",
        "각 도시의 2015년 인구 데이터를 시리즈로 만드시오.\n",
        "```\n",
        "서울    9904312\n",
        "부산    3448737\n",
        "인천    2890451\n",
        "대구    2466052\n",
        "dtype: int64\n",
        "```"
      ]
    },
    {
      "cell_type": "code",
      "execution_count": null,
      "metadata": {
        "id": "6udgMjYXB8qt"
      },
      "outputs": [],
      "source": [
        "# pass"
      ]
    },
    {
      "cell_type": "markdown",
      "metadata": {
        "id": "tgk9wRf_HkiR"
      },
      "source": [
        "#### Pandas 연습 02\n",
        "DataFrame을 이용하여 아래와 같은 결과를 구성하시오.\n",
        "\n",
        "| |홍길동|\t김사또|\t임꺽정|\n",
        "|---|---|---|---|\n",
        "|키|\t175.3|\t180.2|\t178.6|\n",
        "|몸무게|\t66.2|\t78.9|\t55.1|\n",
        "|나이|\t27.0|\t49.0|\t35.0|\n"
      ]
    },
    {
      "cell_type": "code",
      "execution_count": null,
      "metadata": {
        "id": "SaS7ispgOK-I"
      },
      "outputs": [],
      "source": [
        "# pass"
      ]
    },
    {
      "cell_type": "markdown",
      "metadata": {
        "id": "QmIcE07nyyEb"
      },
      "source": [
        "#### Pandas 연습 03-1\n",
        "\n",
        "#### csv 파일 읽어온다.\n",
        "\n",
        "score.csv\n",
        "\n",
        "drive_path = '...'"
      ]
    },
    {
      "cell_type": "code",
      "execution_count": null,
      "metadata": {
        "id": "XInderyB7oD-"
      },
      "outputs": [],
      "source": [
        "score = pd.read_csv(drive_path + 'score.csv',\n",
        "                    index_col='과목', encoding='euc-kr')\n",
        "score"
      ]
    },
    {
      "cell_type": "markdown",
      "metadata": {
        "id": "lUlJOgBp0MLC"
      },
      "source": [
        "과목별 평균을 계산하여 column 추가하기\n",
        "```\n",
        "\n",
        "        1반  2반\t3반\t4반\t합계\t평균\n",
        "과목\n",
        "수학\t45\t44\t73\t39\t201\t50.25\n",
        "영어\t76\t92\t45\t69\t282\t70.50\n",
        "국어\t47\t92\t45\t69\t253\t63.25\n",
        "사회\t92\t81\t85\t40\t298\t74.50\n",
        "과학\t11\t79\t47\t26\t163\t40.75\n",
        "```\n"
      ]
    },
    {
      "cell_type": "code",
      "execution_count": null,
      "metadata": {
        "id": "zn1O-JdbZXiP"
      },
      "outputs": [],
      "source": [
        "score['합계'] = score.sum(axis=1)\n",
        "score"
      ]
    },
    {
      "cell_type": "code",
      "execution_count": null,
      "metadata": {
        "id": "AiC62Fq0C5Eh"
      },
      "outputs": [],
      "source": [
        "# pass"
      ]
    },
    {
      "cell_type": "markdown",
      "metadata": {
        "id": "_nMX-UnD03vH"
      },
      "source": [
        "#### Pandas 연습 03-2\n",
        "\n",
        "반평균을 계산 하여 row 추가 하기\n",
        "```\n",
        "\t      1반\t2반\t 3반 \t4반 \t합계\t평균\n",
        "과목\n",
        "수학\t45.0\t44.0\t73.0\t39.0\t201.0\t50.25\n",
        "영어\t76.0\t92.0\t45.0\t69.0\t282.0\t70.50\n",
        "국어\t47.0\t92.0\t45.0\t69.0\t253.0\t63.25\n",
        "사회\t92.0\t81.0\t85.0\t40.0\t298.0\t74.50\n",
        "과학\t11.0\t79.0\t47.0\t26.0\t163.0\t40.75\n",
        "반평균  54.2\t77.6\t59.0\t48.6\t239.4\t59.85\n",
        "```\n"
      ]
    },
    {
      "cell_type": "code",
      "execution_count": null,
      "metadata": {
        "id": "uV1YpqAwaq7C"
      },
      "outputs": [],
      "source": [
        "score.mean()"
      ]
    },
    {
      "cell_type": "code",
      "execution_count": null,
      "metadata": {
        "id": "VwaxtzX1C68U"
      },
      "outputs": [],
      "source": [
        "# pass"
      ]
    },
    {
      "cell_type": "markdown",
      "metadata": {
        "id": "1s1Tlohj2p-K"
      },
      "source": [
        "#### Pandas 연습 03-3\n",
        "\n",
        "반 평균, 합계, 평균을 제외한 데이터 중 과목별 가장 큰 값, 작은 값을 구하시오.\n",
        "\n",
        "```\n",
        "과목\n",
        "수학    73.0\n",
        "영어    92.0\n",
        "국어    92.0\n",
        "사회    92.0\n",
        "과학    79.0\n",
        "dtype: float64\n",
        "```\n",
        "```\n",
        "과목\n",
        "수학    39.0\n",
        "영어    45.0\n",
        "국어    45.0\n",
        "사회    40.0\n",
        "과학    11.0\n",
        "dtype: float64\n",
        "```\n"
      ]
    },
    {
      "cell_type": "code",
      "execution_count": null,
      "metadata": {
        "id": "LCSvr94mDExP"
      },
      "outputs": [],
      "source": [
        "# pass"
      ]
    },
    {
      "cell_type": "markdown",
      "metadata": {
        "id": "cfDTvdbb3R49"
      },
      "source": [
        "#### Pandas 연습 03-4\n",
        "\n",
        "과목별 가장 큰 값과 작은 값의 차를 구하시오.\n",
        "```\n",
        "과목\n",
        "수학    34.0\n",
        "영어    47.0\n",
        "국어    47.0\n",
        "사회    52.0\n",
        "과학    68.0\n",
        "dtype: float64\n",
        "```\n"
      ]
    },
    {
      "cell_type": "code",
      "execution_count": null,
      "metadata": {
        "id": "SiLZxhJTDGTb"
      },
      "outputs": [],
      "source": [
        "# pass"
      ]
    }
  ],
  "metadata": {
    "colab": {
      "provenance": []
    },
    "kernelspec": {
      "display_name": "Python 3",
      "name": "python3"
    }
  },
  "nbformat": 4,
  "nbformat_minor": 0
}
